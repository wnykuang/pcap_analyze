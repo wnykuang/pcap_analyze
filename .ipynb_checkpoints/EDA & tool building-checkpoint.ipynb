{
 "cells": [
  {
   "cell_type": "code",
   "execution_count": 2,
   "metadata": {},
   "outputs": [],
   "source": [
    "import pyshark\n",
    "from os import path, sys, walk\n",
    "import subprocess\n",
    "from time import sleep\n",
    "import pickle\n",
    "import pandas as pd\n",
    "import matplotlib.pyplot as plt"
   ]
  },
  {
   "cell_type": "markdown",
   "metadata": {},
   "source": [
    "# Preprocess"
   ]
  },
  {
   "cell_type": "code",
   "execution_count": 3,
   "metadata": {},
   "outputs": [
    {
     "data": {
      "text/plain": [
       "True"
      ]
     },
     "execution_count": 3,
     "metadata": {},
     "output_type": "execute_result"
    }
   ],
   "source": [
    "#get all path of .pcap file\n",
    "cnt = 0\n",
    "paths_pcap = []\n",
    "for f in walk(sys.path[0]):\n",
    "    cnt += 1\n",
    "    folder_name = f[0]\n",
    "    for iterable in f:\n",
    "        if type(iterable) is list:\n",
    "            for item in iterable:\n",
    "                if item.split(\".\")[-1] == 'pcap':\n",
    "                    file_path = folder_name + \"/\"+ item\n",
    "                    paths_pcap.append(file_path)\n",
    "                    \n",
    "path.exists(paths_pcap[0])"
   ]
  },
  {
   "cell_type": "code",
   "execution_count": 4,
   "metadata": {},
   "outputs": [
    {
     "name": "stdout",
     "output_type": "stream",
     "text": [
      "681\n"
     ]
    }
   ],
   "source": [
    "print(len(paths_pcap))"
   ]
  },
  {
   "cell_type": "code",
   "execution_count": 4,
   "metadata": {},
   "outputs": [],
   "source": [
    "#test pyshark\n",
    "r = pyshark.FileCapture(paths_pcap[0])"
   ]
  },
  {
   "cell_type": "code",
   "execution_count": 5,
   "metadata": {},
   "outputs": [
    {
     "data": {
      "text/plain": [
       "'/Users/kuangwenyi/Documents/Development/activation-camera/invoke.pcap'"
      ]
     },
     "execution_count": 5,
     "metadata": {},
     "output_type": "execute_result"
    }
   ],
   "source": [
    "paths_pcap[0]"
   ]
  },
  {
   "cell_type": "code",
   "execution_count": 8,
   "metadata": {},
   "outputs": [],
   "source": [
    "def generate_res_path(path):\n",
    "    res_path = path[:-5] + \".txt\"\n",
    "    return res_path"
   ]
  },
  {
   "cell_type": "code",
   "execution_count": 9,
   "metadata": {},
   "outputs": [],
   "source": [
    "# process = subprocess.Popen(['tshark', '-r', '/Users/kuangwenyi/Documents/Development/activation-camera/activation-camera/[S2.Ep9] Narcos - Nuestra Finca_00469_00470_echodot_camera_2b/echodot.pcap'], stdout=subprocess.PIPE, stderr=subprocess.PIPE)\n",
    "# out, err = process.communicate()\n",
    "# # print(out.decode('utf-8'))\n",
    "# string = out.decode('utf-8').split('\\n')\n",
    "# with open('./test2.txt', \"w\") as f:\n",
    "#     for line in string:\n",
    "#         f.write(line.strip() + '\\n')"
   ]
  },
  {
   "cell_type": "code",
   "execution_count": 13,
   "metadata": {},
   "outputs": [],
   "source": [
    "def generate_result_from_tshark(paths):\n",
    "    count = 0\n",
    "    for path in paths:\n",
    "        process = subprocess.Popen(['tshark', '-r', path], stdout=subprocess.PIPE, stderr=subprocess.PIPE)\n",
    "        \n",
    "        out, err = process.communicate()\n",
    "        \n",
    "        count += 1\n",
    "        if (count % 100 == 0):\n",
    "            print(count)\n",
    "        stringlized = out.decode('utf-8').split('\\n')\n",
    "        res_path = generate_res_path(path)\n",
    "        with open(res_path, 'w') as f:\n",
    "            for line in stringlized:\n",
    "                f.write(line.strip() + '\\n')\n",
    "    return None"
   ]
  },
  {
   "cell_type": "code",
   "execution_count": 14,
   "metadata": {},
   "outputs": [
    {
     "name": "stdout",
     "output_type": "stream",
     "text": [
      "100\n",
      "200\n",
      "300\n",
      "400\n",
      "500\n",
      "600\n"
     ]
    }
   ],
   "source": [
    "# generate_result_from_tshark(paths_pcap)"
   ]
  },
  {
   "cell_type": "code",
   "execution_count": 7,
   "metadata": {},
   "outputs": [],
   "source": [
    "def get_all_tshark_output_res():\n",
    "    cnt = 0\n",
    "    paths_txt = []\n",
    "    for f in walk(sys.path[0]):\n",
    "        cnt += 1\n",
    "        folder_name = f[0]\n",
    "        for iterable in f:\n",
    "            if type(iterable) is list:\n",
    "                for item in iterable:\n",
    "                    if item.split(\".\")[-1] == 'txt':\n",
    "                        if \"time\" in item:\n",
    "                            continue\n",
    "                        if \"relative-time\" in item:\n",
    "                            continue\n",
    "                        if \"subtitles\" in item:\n",
    "                            continue\n",
    "                        file_path = folder_name + \"/\"+ item\n",
    "                        paths_txt.append(file_path)\n",
    "    return paths_txt"
   ]
  },
  {
   "cell_type": "code",
   "execution_count": 8,
   "metadata": {},
   "outputs": [
    {
     "data": {
      "text/plain": [
       "681"
      ]
     },
     "execution_count": 8,
     "metadata": {},
     "output_type": "execute_result"
    }
   ],
   "source": [
    "len(get_all_tshark_output_res())"
   ]
  },
  {
   "cell_type": "code",
   "execution_count": 9,
   "metadata": {},
   "outputs": [],
   "source": [
    "tsharks_res = get_all_tshark_output_res()"
   ]
  },
  {
   "cell_type": "code",
   "execution_count": 33,
   "metadata": {},
   "outputs": [],
   "source": [
    "sample_txt = tsharks_res[0]"
   ]
  },
  {
   "cell_type": "code",
   "execution_count": 47,
   "metadata": {},
   "outputs": [
    {
     "data": {
      "text/plain": [
       "'/Users/kuangwenyi/Documents/Development/activation-camera/activation-camera/[S2.Ep9] Narcos - Nuestra Finca_00469_00470_echodot_camera_2b/echodot.txt'"
      ]
     },
     "execution_count": 47,
     "metadata": {},
     "output_type": "execute_result"
    }
   ],
   "source": [
    "sample_txt"
   ]
  },
  {
   "cell_type": "code",
   "execution_count": 41,
   "metadata": {},
   "outputs": [],
   "source": [
    "with open(sample_txt, 'r') as f:\n",
    "    length_analysis = {}\n",
    "    for l in f:\n",
    "        if l == '\\n':\n",
    "            continue\n",
    "        length_analysis[len(l.split(' '))] = l"
   ]
  },
  {
   "cell_type": "code",
   "execution_count": 43,
   "metadata": {},
   "outputs": [
    {
     "data": {
      "text/plain": [
       "{13: '554  30.558820 1e:f2:0c:cc:ed:1c → AmazonTe_41:4d:35 ARP 60 Who has 192.168.12.114? Tell 192.168.12.254\\n',\n",
       " 11: '89   4.949747 192.168.12.115 → 192.168.12.114 TLSv1.2 112 Application Data\\n',\n",
       " 19: '97   4.955993 192.168.12.114 → 192.168.12.115 TCP 66 60844 → 55443 [ACK] Seq=720 Ack=307 Win=1939 Len=0 TSval=22762 TSecr=22765\\n',\n",
       " 17: '95   4.953883 192.168.12.115 → 192.168.12.114 TLSv1.2 326 Application Data, Application Data, Application Data, Application Data\\n',\n",
       " 12: '718  39.651803 192.168.12.115 → 192.168.12.114 UDP 58 55444 → 55444 Len=16\\n',\n",
       " 10: '617  34.950971 192.168.12.115 → 192.168.12.114 TLSv1.2 112 Application Data\\n',\n",
       " 18: '620  34.974044 192.168.12.114 → 192.168.12.115 TCP 66 60844 → 55443 [ACK] Seq=2877 Ack=1225 Win=2061 Len=0 TSval=25764 TSecr=25765\\n',\n",
       " 16: '619  34.956207 192.168.12.115 → 192.168.12.114 TLSv1.2 326 Application Data, Application Data, Application Data, Application Data\\n',\n",
       " 20: '461  25.467859 52.94.235.50 → 192.168.12.114 TCP 60 [TCP Dup ACK 460#1] 443 → 46649 [ACK] Seq=47 Ack=47 Win=2872 Len=0\\n'}"
      ]
     },
     "execution_count": 43,
     "metadata": {},
     "output_type": "execute_result"
    }
   ],
   "source": [
    "length_analysis"
   ]
  },
  {
   "cell_type": "code",
   "execution_count": 61,
   "metadata": {},
   "outputs": [
    {
     "name": "stdout",
     "output_type": "stream",
     "text": [
      "30.558820,1e:f2:0c:cc:ed:1c,AmazonTe_41:4d:35,ARP,60,Who has 192.168.12.114? Tell 192.168.12.254\n",
      "4.949747,192.168.12.115,192.168.12.114,TLSv1.2,112,Application Data\n",
      "4.955993,192.168.12.114,192.168.12.115,TCP,66,60844 55443 [ACK] Seq=720 Ack=307 Win=1939 Len=0 TSval=22762 TSecr=22765\n",
      "4.953883,192.168.12.115,192.168.12.114,TLSv1.2,326,Application Data, Application Data, Application Data, Application Data\n",
      "39.651803,192.168.12.115,192.168.12.114,UDP,58,55444 55444 Len=16\n",
      "34.950971,192.168.12.115,192.168.12.114,TLSv1.2,112,Application Data\n",
      "34.974044,192.168.12.114,192.168.12.115,TCP,66,60844 55443 [ACK] Seq=2877 Ack=1225 Win=2061 Len=0 TSval=25764 TSecr=25765\n",
      "34.956207,192.168.12.115,192.168.12.114,TLSv1.2,326,Application Data, Application Data, Application Data, Application Data\n",
      "25.467859,52.94.235.50,192.168.12.114,TCP,60,[TCP Dup ACK 460#1] 443 46649 [ACK] Seq=47 Ack=47 Win=2872 Len=0\n"
     ]
    }
   ],
   "source": [
    "for l, elem in length_analysis.items():\n",
    "    parsed = []\n",
    "    idx = 0\n",
    "    string = \"\"\n",
    "    for e in elem.split(' '):\n",
    "        if e == '' or e == '→':\n",
    "            continue\n",
    "        else:\n",
    "            if idx >= 6:\n",
    "                string += (\" \" + e)\n",
    "            else:\n",
    "                parsed.append(e)\n",
    "                idx += 1\n",
    "    parsed.append(string.strip())\n",
    "    \n",
    "#     for idx, e in enumerate(elem.split(' ')):\n",
    "#         if e == '':\n",
    "#             continue\n",
    "#         else:\n",
    "#             parsed.append((idx, e))\n",
    "    print(\",\".join(parsed[1:]))"
   ]
  },
  {
   "cell_type": "code",
   "execution_count": 56,
   "metadata": {},
   "outputs": [],
   "source": [
    "protocols = set([\"ARP\", \"TLSv1.2\", 'TCP', 'UDP'])"
   ]
  },
  {
   "cell_type": "code",
   "execution_count": 49,
   "metadata": {},
   "outputs": [
    {
     "data": {
      "text/plain": [
       "{'ARP', 'TCP', 'TLSv1.2', 'UDP'}"
      ]
     },
     "execution_count": 49,
     "metadata": {},
     "output_type": "execute_result"
    }
   ],
   "source": [
    "protocols"
   ]
  },
  {
   "cell_type": "code",
   "execution_count": 17,
   "metadata": {},
   "outputs": [],
   "source": [
    "def convert_plain_to_csv(plain_line):\n",
    "    parsed = []\n",
    "    idx = 0\n",
    "    string = \"\"\n",
    "    for e in plain_line.split(' '):\n",
    "        if e == '' or e == '→':\n",
    "            continue\n",
    "        else:\n",
    "            if idx >= 6:\n",
    "                string += (\" \" + e)\n",
    "            else:\n",
    "                parsed.append(e)\n",
    "                idx += 1\n",
    "    parsed.append(string.strip().replace('\\n', '').replace(',', '')+ '\\n')\n",
    "    return \",\".join(parsed[1:])"
   ]
  },
  {
   "cell_type": "code",
   "execution_count": 18,
   "metadata": {},
   "outputs": [
    {
     "ename": "NameError",
     "evalue": "name 'length_analysis' is not defined",
     "output_type": "error",
     "traceback": [
      "\u001b[0;31m---------------------------------------------------------------------------\u001b[0m",
      "\u001b[0;31mNameError\u001b[0m                                 Traceback (most recent call last)",
      "\u001b[0;32m<ipython-input-18-1b04cd9af980>\u001b[0m in \u001b[0;36m<module>\u001b[0;34m\u001b[0m\n\u001b[0;32m----> 1\u001b[0;31m \u001b[0mlength_analysis\u001b[0m\u001b[0;34m.\u001b[0m\u001b[0mkeys\u001b[0m\u001b[0;34m(\u001b[0m\u001b[0;34m)\u001b[0m\u001b[0;34m\u001b[0m\u001b[0;34m\u001b[0m\u001b[0m\n\u001b[0m",
      "\u001b[0;31mNameError\u001b[0m: name 'length_analysis' is not defined"
     ]
    }
   ],
   "source": [
    "length_analysis.keys()"
   ]
  },
  {
   "cell_type": "code",
   "execution_count": 85,
   "metadata": {},
   "outputs": [
    {
     "data": {
      "text/plain": [
       "'4.949747,192.168.12.115,192.168.12.114,TLSv1.2,112,Application Data\\n'"
      ]
     },
     "execution_count": 85,
     "metadata": {},
     "output_type": "execute_result"
    }
   ],
   "source": [
    "convert_plain_to_csv(length_analysis[11])"
   ]
  },
  {
   "cell_type": "code",
   "execution_count": 19,
   "metadata": {},
   "outputs": [],
   "source": [
    "def generate_csv_path(tshark_paths):\n",
    "    res = []\n",
    "    for path in tshark_paths:\n",
    "        res.append(path[:-3] + 'csv')\n",
    "    return res, tshark_paths"
   ]
  },
  {
   "cell_type": "code",
   "execution_count": 20,
   "metadata": {},
   "outputs": [
    {
     "data": {
      "text/plain": [
       "'/Users/kuangwenyi/Documents/Development/activation-camera/activation-camera/[S2.Ep9] Narcos - Nuestra Finca_00469_00470_echodot_camera_2b/echodot.'"
      ]
     },
     "execution_count": 20,
     "metadata": {},
     "output_type": "execute_result"
    }
   ],
   "source": [
    "'/Users/kuangwenyi/Documents/Development/activation-camera/activation-camera/[S2.Ep9] Narcos - Nuestra Finca_00469_00470_echodot_camera_2b/echodot.txt'[:-3]"
   ]
  },
  {
   "cell_type": "code",
   "execution_count": null,
   "metadata": {},
   "outputs": [],
   "source": []
  },
  {
   "cell_type": "code",
   "execution_count": 23,
   "metadata": {},
   "outputs": [],
   "source": [
    "def convert_plain_txt_to_csv(tshark_res):\n",
    "    columns = ['time', 'source', 'destination', 'protocol', 'length', 'Info']\n",
    "    cnt = 0\n",
    "    target_csv_paths, tshark_plain_paths = generate_csv_path(tsharks_res)\n",
    "    for csv_path, plain_path in zip(target_csv_paths, tshark_plain_paths):\n",
    "        cnt += 1\n",
    "        if cnt % 100 == 0:\n",
    "            print(cnt)\n",
    "        with open(csv_path, 'w') as csv:\n",
    "            csv.write(\",\".join(columns) + '\\n')\n",
    "            with open(plain_path, 'r') as plain:\n",
    "                for line in plain:\n",
    "                    if line == '\\n' or line == '':\n",
    "                        continue\n",
    "                    csv_line = convert_plain_to_csv(line)\n",
    "                    csv.write(csv_line)\n",
    "    return"
   ]
  },
  {
   "cell_type": "code",
   "execution_count": 24,
   "metadata": {},
   "outputs": [
    {
     "name": "stdout",
     "output_type": "stream",
     "text": [
      "100\n",
      "200\n",
      "300\n",
      "400\n",
      "500\n",
      "600\n",
      "CPU times: user 2.92 s, sys: 424 ms, total: 3.34 s\n",
      "Wall time: 3.78 s\n"
     ]
    }
   ],
   "source": [
    "%%time\n",
    "convert_plain_txt_to_csv(tsharks_res)"
   ]
  },
  {
   "cell_type": "markdown",
   "metadata": {},
   "source": [
    "# EDA"
   ]
  },
  {
   "cell_type": "code",
   "execution_count": 11,
   "metadata": {},
   "outputs": [],
   "source": [
    "csv_paths, _ = generate_csv_path(tsharks_res)"
   ]
  },
  {
   "cell_type": "code",
   "execution_count": 12,
   "metadata": {},
   "outputs": [
    {
     "data": {
      "text/plain": [
       "681"
      ]
     },
     "execution_count": 12,
     "metadata": {},
     "output_type": "execute_result"
    }
   ],
   "source": [
    "len(csv_paths)"
   ]
  },
  {
   "cell_type": "code",
   "execution_count": 27,
   "metadata": {},
   "outputs": [
    {
     "data": {
      "text/plain": [
       "0       0.000000\n",
       "1       0.001368\n",
       "2       0.040974\n",
       "3       0.042084\n",
       "4       0.092924\n",
       "         ...    \n",
       "713    39.566676\n",
       "714    39.613302\n",
       "715    39.621260\n",
       "716    39.650686\n",
       "717    39.651803\n",
       "Name: time, Length: 718, dtype: float64"
      ]
     },
     "execution_count": 27,
     "metadata": {},
     "output_type": "execute_result"
    }
   ],
   "source": [
    "pd.read_csv(csv_paths[0])"
   ]
  },
  {
   "cell_type": "code",
   "execution_count": null,
   "metadata": {},
   "outputs": [],
   "source": []
  }
 ],
 "metadata": {
  "kernelspec": {
   "display_name": "Python 3",
   "language": "python",
   "name": "python3"
  },
  "language_info": {
   "codemirror_mode": {
    "name": "ipython",
    "version": 3
   },
   "file_extension": ".py",
   "mimetype": "text/x-python",
   "name": "python",
   "nbconvert_exporter": "python",
   "pygments_lexer": "ipython3",
   "version": "3.7.6"
  }
 },
 "nbformat": 4,
 "nbformat_minor": 2
}
